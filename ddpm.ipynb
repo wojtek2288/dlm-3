{
 "cells": [
  {
   "cell_type": "code",
   "execution_count": 6,
   "metadata": {},
   "outputs": [],
   "source": [
    "from diffusers import DDPMPipeline\n",
    "from torchvision import transforms, datasets\n",
    "from torchvision.models import inception_v3\n",
    "import torch\n",
    "import numpy as np\n",
    "from scipy.linalg import sqrtm\n",
    "from torch.utils.data import DataLoader, Subset\n",
    "from tqdm import tqdm\n",
    "import os\n",
    "from PIL import Image"
   ]
  },
  {
   "cell_type": "code",
   "execution_count": 9,
   "metadata": {},
   "outputs": [],
   "source": [
    "DATASET_DIR = r\"D:\\data0\\lsun\\bedroom\"\n",
    "MODEL_ID = \"google/ddpm-bedroom-256\"\n",
    "OUTPUT_DIR = \"ddpm/images\"\n",
    "DATASET_SUBSET = 0.05"
   ]
  },
  {
   "cell_type": "code",
   "execution_count": 3,
   "metadata": {},
   "outputs": [],
   "source": [
    "device = torch.device(\"cuda\" if torch.cuda.is_available() else \"cpu\")"
   ]
  },
  {
   "cell_type": "markdown",
   "metadata": {},
   "source": [
    "## Image generation"
   ]
  },
  {
   "cell_type": "code",
   "execution_count": 4,
   "metadata": {},
   "outputs": [
    {
     "data": {
      "application/vnd.jupyter.widget-view+json": {
       "model_id": "da23fa0ba07d40a5a28f8757e5b941f0",
       "version_major": 2,
       "version_minor": 0
      },
      "text/plain": [
       "Fetching 4 files:   0%|          | 0/4 [00:00<?, ?it/s]"
      ]
     },
     "metadata": {},
     "output_type": "display_data"
    },
    {
     "name": "stderr",
     "output_type": "stream",
     "text": [
      "Generating images:   0%|          | 0/9 [00:00<?, ?it/s]"
     ]
    },
    {
     "data": {
      "application/vnd.jupyter.widget-view+json": {
       "model_id": "54a7ceb4c5924c328e1c376fb0a991c4",
       "version_major": 2,
       "version_minor": 0
      },
      "text/plain": [
       "  0%|          | 0/1000 [00:00<?, ?it/s]"
      ]
     },
     "metadata": {},
     "output_type": "display_data"
    },
    {
     "name": "stderr",
     "output_type": "stream",
     "text": [
      "Generating images:  11%|█         | 1/9 [32:18<4:18:24, 1938.09s/it]"
     ]
    },
    {
     "data": {
      "application/vnd.jupyter.widget-view+json": {
       "model_id": "47a7239b97f54927ba5868e673e5bb93",
       "version_major": 2,
       "version_minor": 0
      },
      "text/plain": [
       "  0%|          | 0/1000 [00:00<?, ?it/s]"
      ]
     },
     "metadata": {},
     "output_type": "display_data"
    },
    {
     "name": "stderr",
     "output_type": "stream",
     "text": [
      "Generating images:  22%|██▏       | 2/9 [1:04:50<3:47:05, 1946.55s/it]"
     ]
    },
    {
     "data": {
      "application/vnd.jupyter.widget-view+json": {
       "model_id": "8b2d7e37138747a980fd075f77b6c012",
       "version_major": 2,
       "version_minor": 0
      },
      "text/plain": [
       "  0%|          | 0/1000 [00:00<?, ?it/s]"
      ]
     },
     "metadata": {},
     "output_type": "display_data"
    },
    {
     "name": "stderr",
     "output_type": "stream",
     "text": [
      "Generating images:  33%|███▎      | 3/9 [1:38:12<3:17:11, 1971.99s/it]"
     ]
    },
    {
     "data": {
      "application/vnd.jupyter.widget-view+json": {
       "model_id": "809da9f03cac4bc4915ce27f38df6395",
       "version_major": 2,
       "version_minor": 0
      },
      "text/plain": [
       "  0%|          | 0/1000 [00:00<?, ?it/s]"
      ]
     },
     "metadata": {},
     "output_type": "display_data"
    },
    {
     "name": "stderr",
     "output_type": "stream",
     "text": [
      "Generating images:  44%|████▍     | 4/9 [2:09:36<2:41:25, 1937.11s/it]"
     ]
    },
    {
     "data": {
      "application/vnd.jupyter.widget-view+json": {
       "model_id": "20a66c868dc5426496327ebe66eadcff",
       "version_major": 2,
       "version_minor": 0
      },
      "text/plain": [
       "  0%|          | 0/1000 [00:00<?, ?it/s]"
      ]
     },
     "metadata": {},
     "output_type": "display_data"
    },
    {
     "name": "stderr",
     "output_type": "stream",
     "text": [
      "Generating images:  56%|█████▌    | 5/9 [2:39:45<2:06:03, 1890.97s/it]"
     ]
    },
    {
     "data": {
      "application/vnd.jupyter.widget-view+json": {
       "model_id": "15abfdeecbbf4ab981d0b8b2f4e36ae8",
       "version_major": 2,
       "version_minor": 0
      },
      "text/plain": [
       "  0%|          | 0/1000 [00:00<?, ?it/s]"
      ]
     },
     "metadata": {},
     "output_type": "display_data"
    },
    {
     "name": "stderr",
     "output_type": "stream",
     "text": [
      "Generating images:  67%|██████▋   | 6/9 [3:08:43<1:31:56, 1838.84s/it]"
     ]
    },
    {
     "data": {
      "application/vnd.jupyter.widget-view+json": {
       "model_id": "69de50ebe20f4bb9a912c3be02fa65f8",
       "version_major": 2,
       "version_minor": 0
      },
      "text/plain": [
       "  0%|          | 0/1000 [00:00<?, ?it/s]"
      ]
     },
     "metadata": {},
     "output_type": "display_data"
    },
    {
     "name": "stderr",
     "output_type": "stream",
     "text": [
      "Generating images:  78%|███████▊  | 7/9 [3:37:42<1:00:12, 1806.22s/it]"
     ]
    },
    {
     "data": {
      "application/vnd.jupyter.widget-view+json": {
       "model_id": "9bdfdccc84a6454e90eafa79439b49a1",
       "version_major": 2,
       "version_minor": 0
      },
      "text/plain": [
       "  0%|          | 0/1000 [00:00<?, ?it/s]"
      ]
     },
     "metadata": {},
     "output_type": "display_data"
    },
    {
     "name": "stderr",
     "output_type": "stream",
     "text": [
      "Generating images:  89%|████████▉ | 8/9 [4:06:37<29:43, 1783.71s/it]  "
     ]
    },
    {
     "data": {
      "application/vnd.jupyter.widget-view+json": {
       "model_id": "df1c98657449408aae22d4fd5e03a2b3",
       "version_major": 2,
       "version_minor": 0
      },
      "text/plain": [
       "  0%|          | 0/1000 [00:00<?, ?it/s]"
      ]
     },
     "metadata": {},
     "output_type": "display_data"
    },
    {
     "name": "stderr",
     "output_type": "stream",
     "text": [
      "Generating images: 100%|██████████| 9/9 [4:35:34<00:00, 1837.21s/it]\n"
     ]
    }
   ],
   "source": [
    "ddpm = DDPMPipeline.from_pretrained(MODEL_ID)\n",
    "generated_images = [ddpm().images[0] for _ in tqdm(range(9), desc=\"Generating images\")]"
   ]
  },
  {
   "cell_type": "code",
   "execution_count": 5,
   "metadata": {},
   "outputs": [
    {
     "data": {
      "text/plain": [
       "[<PIL.Image.Image image mode=RGB size=256x256>,\n",
       " <PIL.Image.Image image mode=RGB size=256x256>,\n",
       " <PIL.Image.Image image mode=RGB size=256x256>,\n",
       " <PIL.Image.Image image mode=RGB size=256x256>,\n",
       " <PIL.Image.Image image mode=RGB size=256x256>,\n",
       " <PIL.Image.Image image mode=RGB size=256x256>,\n",
       " <PIL.Image.Image image mode=RGB size=256x256>,\n",
       " <PIL.Image.Image image mode=RGB size=256x256>,\n",
       " <PIL.Image.Image image mode=RGB size=256x256>]"
      ]
     },
     "execution_count": 5,
     "metadata": {},
     "output_type": "execute_result"
    }
   ],
   "source": [
    "generated_images"
   ]
  },
  {
   "cell_type": "code",
   "execution_count": 7,
   "metadata": {},
   "outputs": [
    {
     "name": "stdout",
     "output_type": "stream",
     "text": [
      "Images saved in directory: ddpm/images\n",
      "Grid image saved as: ddpm/images\\fake_samples.png\n"
     ]
    }
   ],
   "source": [
    "output_dir = 'ddpm/images'\n",
    "os.makedirs(output_dir, exist_ok=True)\n",
    "\n",
    "for i, img in enumerate(generated_images):\n",
    "    img.save(os.path.join(output_dir, f'fake_samples_{i+1}.png'))\n",
    "\n",
    "grid_size = (3, 3)\n",
    "image_size = generated_images[0].size\n",
    "grid_image = Image.new('RGB', (grid_size[0] * image_size[0], grid_size[1] * image_size[1]))\n",
    "\n",
    "for index, img in enumerate(generated_images):\n",
    "    x = (index % grid_size[0]) * image_size[0]\n",
    "    y = (index // grid_size[0]) * image_size[1]\n",
    "    grid_image.paste(img, (x, y))\n",
    "\n",
    "grid_image_path = os.path.join(output_dir, 'fake_samples.png')\n",
    "grid_image.save(grid_image_path)\n",
    "\n",
    "print(f'Images saved in directory: {output_dir}')\n",
    "print(f'Grid image saved as: {grid_image_path}')"
   ]
  },
  {
   "cell_type": "markdown",
   "metadata": {},
   "source": [
    "## FID calculation"
   ]
  },
  {
   "cell_type": "code",
   "execution_count": 11,
   "metadata": {},
   "outputs": [],
   "source": [
    "transform = transforms.Compose([\n",
    "    transforms.Resize((299, 299)),  # Resize to 299x299 for Inception\n",
    "    transforms.ToTensor(),\n",
    "    transforms.Normalize((0.5, 0.5, 0.5), (0.5, 0.5, 0.5))\n",
    "])\n",
    "\n",
    "dataset = datasets.ImageFolder(root=DATASET_DIR, transform=transform)\n",
    "generated_dataset = datasets.ImageFolder(root='ddpm', transform=transform)\n",
    "\n",
    "total_len = len(dataset)\n",
    "final_subset_indices = np.random.choice(total_len, int(DATASET_SUBSET * total_len), replace=False)\n",
    "\n",
    "subset_dataset = Subset(dataset, final_subset_indices)\n",
    "dataloader = DataLoader(subset_dataset, batch_size=32, shuffle=True)\n",
    "generated_dataloader = DataLoader(generated_dataset, batch_size=32, shuffle=True)"
   ]
  },
  {
   "cell_type": "code",
   "execution_count": 12,
   "metadata": {},
   "outputs": [],
   "source": [
    "def get_features(dataloader, model, device):\n",
    "    model = model.to(device)\n",
    "    features = []\n",
    "    with torch.no_grad():\n",
    "        for images, _ in tqdm(dataloader, desc=\"Extracting features\"):\n",
    "            images = images.to(device)\n",
    "            outputs = model(images)\n",
    "            features.append(outputs.cpu().numpy())\n",
    "    features = np.concatenate(features, axis=0)\n",
    "    return features"
   ]
  },
  {
   "cell_type": "code",
   "execution_count": 13,
   "metadata": {},
   "outputs": [],
   "source": [
    "inception = inception_v3(pretrained=True, transform_input=False).eval()"
   ]
  },
  {
   "cell_type": "code",
   "execution_count": 14,
   "metadata": {},
   "outputs": [
    {
     "name": "stderr",
     "output_type": "stream",
     "text": [
      "Extracting features: 100%|██████████| 474/474 [07:20<00:00,  1.08it/s]\n"
     ]
    }
   ],
   "source": [
    "real_features = get_features(dataloader, inception, device)"
   ]
  },
  {
   "cell_type": "code",
   "execution_count": 15,
   "metadata": {},
   "outputs": [
    {
     "name": "stderr",
     "output_type": "stream",
     "text": [
      "Extracting features: 100%|██████████| 1/1 [00:00<00:00,  3.62it/s]\n"
     ]
    }
   ],
   "source": [
    "generated_features = get_features(generated_dataloader, inception, device)"
   ]
  },
  {
   "cell_type": "code",
   "execution_count": 17,
   "metadata": {},
   "outputs": [
    {
     "name": "stdout",
     "output_type": "stream",
     "text": [
      "FID score: 666.9733674596641\n"
     ]
    }
   ],
   "source": [
    "mu_real = np.mean(real_features, axis=0)\n",
    "sigma_real = np.cov(real_features, rowvar=False)\n",
    "\n",
    "mu_gen = np.mean(generated_features, axis=0)\n",
    "sigma_gen = np.cov(generated_features, rowvar=False)\n",
    "\n",
    "def calculate_fid(mu1, sigma1, mu2, sigma2):\n",
    "    ssdiff = np.sum((mu1 - mu2) ** 2.0)\n",
    "    covmean = sqrtm(sigma1.dot(sigma2))\n",
    "\n",
    "    if np.iscomplexobj(covmean):\n",
    "        covmean = covmean.real\n",
    "\n",
    "    fid = ssdiff + np.trace(sigma1 + sigma2 - 2.0 * covmean)\n",
    "    return fid\n",
    "\n",
    "fid_score = calculate_fid(mu_real, sigma_real, mu_gen, sigma_gen)\n",
    "print('FID score:', fid_score)"
   ]
  }
 ],
 "metadata": {
  "kernelspec": {
   "display_name": "base",
   "language": "python",
   "name": "python3"
  },
  "language_info": {
   "codemirror_mode": {
    "name": "ipython",
    "version": 3
   },
   "file_extension": ".py",
   "mimetype": "text/x-python",
   "name": "python",
   "nbconvert_exporter": "python",
   "pygments_lexer": "ipython3",
   "version": "3.11.5"
  }
 },
 "nbformat": 4,
 "nbformat_minor": 2
}
